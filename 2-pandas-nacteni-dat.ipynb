{
 "cells": [
  {
   "attachments": {},
   "cell_type": "markdown",
   "metadata": {},
   "source": [
    " # `pandas`: Načtení dat\n",
    "Odkaz na lekci: https://kodim.cz/kurzy/python-data-1/python-pro-data-1/nacteni-dat/nacteni-dat\n"
   ]
  },
  {
   "cell_type": "code",
   "execution_count": 1,
   "metadata": {},
   "outputs": [],
   "source": [
    "import pandas"
   ]
  },
  {
   "attachments": {},
   "cell_type": "markdown",
   "metadata": {},
   "source": [
    "### Základní práce s DataFrame"
   ]
  },
  {
   "attachments": {},
   "cell_type": "markdown",
   "metadata": {},
   "source": [
    "#### Načítání dat"
   ]
  },
  {
   "cell_type": "markdown",
   "metadata": {},
   "source": []
  },
  {
   "cell_type": "code",
   "execution_count": 2,
   "metadata": {},
   "outputs": [
    {
     "data": {
      "text/html": [
       "<div>\n",
       "<style scoped>\n",
       "    .dataframe tbody tr th:only-of-type {\n",
       "        vertical-align: middle;\n",
       "    }\n",
       "\n",
       "    .dataframe tbody tr th {\n",
       "        vertical-align: top;\n",
       "    }\n",
       "\n",
       "    .dataframe thead th {\n",
       "        text-align: right;\n",
       "    }\n",
       "</style>\n",
       "<table border=\"1\" class=\"dataframe\">\n",
       "  <thead>\n",
       "    <tr style=\"text-align: right;\">\n",
       "      <th></th>\n",
       "      <th>jmeno</th>\n",
       "      <th>datum</th>\n",
       "      <th>vec</th>\n",
       "      <th>cena</th>\n",
       "    </tr>\n",
       "  </thead>\n",
       "  <tbody>\n",
       "    <tr>\n",
       "      <th>0</th>\n",
       "      <td>Petr</td>\n",
       "      <td>2020-02-05</td>\n",
       "      <td>Prací prášek</td>\n",
       "      <td>399</td>\n",
       "    </tr>\n",
       "    <tr>\n",
       "      <th>1</th>\n",
       "      <td>Ondra</td>\n",
       "      <td>2020-02-08</td>\n",
       "      <td>Savo</td>\n",
       "      <td>80</td>\n",
       "    </tr>\n",
       "    <tr>\n",
       "      <th>2</th>\n",
       "      <td>Petr</td>\n",
       "      <td>2020-02-24</td>\n",
       "      <td>Toaletní papír</td>\n",
       "      <td>65</td>\n",
       "    </tr>\n",
       "    <tr>\n",
       "      <th>3</th>\n",
       "      <td>Libor</td>\n",
       "      <td>2020-03-05</td>\n",
       "      <td>Pivo</td>\n",
       "      <td>124</td>\n",
       "    </tr>\n",
       "    <tr>\n",
       "      <th>4</th>\n",
       "      <td>Petr</td>\n",
       "      <td>2020-03-18</td>\n",
       "      <td>Pytel na odpadky</td>\n",
       "      <td>75</td>\n",
       "    </tr>\n",
       "    <tr>\n",
       "      <th>5</th>\n",
       "      <td>Míša</td>\n",
       "      <td>2020-03-30</td>\n",
       "      <td>Utěrky na nádobí</td>\n",
       "      <td>130</td>\n",
       "    </tr>\n",
       "    <tr>\n",
       "      <th>6</th>\n",
       "      <td>Ondra</td>\n",
       "      <td>2020-04-22</td>\n",
       "      <td>Toaletní papír</td>\n",
       "      <td>120</td>\n",
       "    </tr>\n",
       "    <tr>\n",
       "      <th>7</th>\n",
       "      <td>Míša</td>\n",
       "      <td>2020-05-05</td>\n",
       "      <td>Pečící papír</td>\n",
       "      <td>30</td>\n",
       "    </tr>\n",
       "    <tr>\n",
       "      <th>8</th>\n",
       "      <td>Zuzka</td>\n",
       "      <td>2020-06-05</td>\n",
       "      <td>Savo</td>\n",
       "      <td>80</td>\n",
       "    </tr>\n",
       "    <tr>\n",
       "      <th>9</th>\n",
       "      <td>Pavla</td>\n",
       "      <td>2020-06-13</td>\n",
       "      <td>Máslo</td>\n",
       "      <td>50</td>\n",
       "    </tr>\n",
       "    <tr>\n",
       "      <th>10</th>\n",
       "      <td>Ondra</td>\n",
       "      <td>2020-07-25</td>\n",
       "      <td>Káva</td>\n",
       "      <td>300</td>\n",
       "    </tr>\n",
       "  </tbody>\n",
       "</table>\n",
       "</div>"
      ],
      "text/plain": [
       "    jmeno       datum               vec  cena\n",
       "0    Petr  2020-02-05      Prací prášek   399\n",
       "1   Ondra  2020-02-08              Savo    80\n",
       "2    Petr  2020-02-24    Toaletní papír    65\n",
       "3   Libor  2020-03-05              Pivo   124\n",
       "4    Petr  2020-03-18  Pytel na odpadky    75\n",
       "5    Míša  2020-03-30  Utěrky na nádobí   130\n",
       "6   Ondra  2020-04-22    Toaletní papír   120\n",
       "7    Míša  2020-05-05      Pečící papír    30\n",
       "8   Zuzka  2020-06-05              Savo    80\n",
       "9   Pavla  2020-06-13             Máslo    50\n",
       "10  Ondra  2020-07-25              Káva   300"
      ]
     },
     "execution_count": 2,
     "metadata": {},
     "output_type": "execute_result"
    }
   ],
   "source": [
    "nakupy = pandas.read_csv('nakupy.csv')\n",
    "nakupy"
   ]
  },
  {
   "attachments": {},
   "cell_type": "markdown",
   "metadata": {},
   "source": [
    "#### Základní informace o tabulce"
   ]
  },
  {
   "cell_type": "code",
   "execution_count": 3,
   "metadata": {},
   "outputs": [
    {
     "name": "stdout",
     "output_type": "stream",
     "text": [
      "<class 'pandas.core.frame.DataFrame'>\n",
      "RangeIndex: 11 entries, 0 to 10\n",
      "Data columns (total 4 columns):\n",
      " #   Column  Non-Null Count  Dtype \n",
      "---  ------  --------------  ----- \n",
      " 0   jmeno   11 non-null     object\n",
      " 1   datum   11 non-null     object\n",
      " 2   vec     11 non-null     object\n",
      " 3   cena    11 non-null     int64 \n",
      "dtypes: int64(1), object(3)\n",
      "memory usage: 484.0+ bytes\n"
     ]
    }
   ],
   "source": [
    "nakupy.info()"
   ]
  },
  {
   "cell_type": "code",
   "execution_count": null,
   "metadata": {},
   "outputs": [],
   "source": [
    "nakupy.shape"
   ]
  },
  {
   "cell_type": "code",
   "execution_count": null,
   "metadata": {},
   "outputs": [],
   "source": [
    "nakupy.columns"
   ]
  },
  {
   "cell_type": "code",
   "execution_count": null,
   "metadata": {},
   "outputs": [],
   "source": [
    "nakupy.head()"
   ]
  },
  {
   "cell_type": "code",
   "execution_count": null,
   "metadata": {},
   "outputs": [],
   "source": [
    "nakupy.tail()"
   ]
  },
  {
   "attachments": {},
   "cell_type": "markdown",
   "metadata": {},
   "source": [
    "### Výběr sloupců"
   ]
  },
  {
   "cell_type": "code",
   "execution_count": null,
   "metadata": {},
   "outputs": [],
   "source": [
    "nakupy['vec']\n",
    "# type(nakupy['vec'])"
   ]
  },
  {
   "cell_type": "code",
   "execution_count": null,
   "metadata": {},
   "outputs": [],
   "source": [
    "nakupy[['jmeno', 'cena']]\n",
    "# type(nakupy[['jmeno', 'cena']])\n",
    "# type(nakupy[['jmeno']])"
   ]
  },
  {
   "attachments": {},
   "cell_type": "markdown",
   "metadata": {},
   "source": [
    "### Výběr řádků pomocí čísla řádku"
   ]
  },
  {
   "cell_type": "code",
   "execution_count": null,
   "metadata": {},
   "outputs": [],
   "source": [
    "nakupy.iloc[3]"
   ]
  },
  {
   "attachments": {},
   "cell_type": "markdown",
   "metadata": {},
   "source": [
    "## Cvičení\n",
    "Odkaz na cvičení: https://kodim.cz/kurzy/python-data-1/python-pro-data-1/nacteni-dat/excs"
   ]
  },
  {
   "cell_type": "code",
   "execution_count": null,
   "metadata": {},
   "outputs": [],
   "source": []
  }
 ],
 "metadata": {
  "kernelspec": {
   "display_name": "Python 3",
   "language": "python",
   "name": "python3"
  },
  "language_info": {
   "codemirror_mode": {
    "name": "ipython",
    "version": 3
   },
   "file_extension": ".py",
   "mimetype": "text/x-python",
   "name": "python",
   "nbconvert_exporter": "python",
   "pygments_lexer": "ipython3",
   "version": "3.12.0"
  },
  "orig_nbformat": 4
 },
 "nbformat": 4,
 "nbformat_minor": 2
}
